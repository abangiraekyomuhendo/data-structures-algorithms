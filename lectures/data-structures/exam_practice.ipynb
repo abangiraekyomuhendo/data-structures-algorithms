{
 "cells": [
  {
   "cell_type": "markdown",
   "metadata": {},
   "source": [
    "I'm just tryna make it through this course unit with an A bro!🙂"
   ]
  },
  {
   "cell_type": "markdown",
   "metadata": {},
   "source": [
    "1. Data Structures and Operations  \n",
    "(a) Implement a stack data structure in Python and perform the following operations:  \n",
    "- Push three integers onto the stack.  \n",
    "- Pop two integers from the stack.  \n",
    "- Display the remaining elements in the stack. \n"
   ]
  },
  {
   "cell_type": "code",
   "execution_count": 11,
   "metadata": {},
   "outputs": [
    {
     "name": "stdout",
     "output_type": "stream",
     "text": [
      "The first pop is 30 and the second is 20\n",
      "The remaining element in this stack is: 10\n"
     ]
    }
   ],
   "source": [
    "stack_data = []\n",
    "\n",
    "\n",
    "#Push three integers onto the stack\n",
    "stack_data.append('10')\n",
    "stack_data.append('20')\n",
    "stack_data.append('30')\n",
    "\n",
    "#Pop two integers from the stack\n",
    "pop_one = stack_data.pop()\n",
    "pop_two = stack_data.pop()\n",
    "\n",
    "print(f\"The first pop is {pop_one} and the second is {pop_two}\")\n",
    "\n",
    "# #Display the remaining elements in the stack\n",
    "# pop_remainders = stack_data.pop()\n",
    "\n",
    "if stack_data:\n",
    "    pop_remainders = stack_data.pop()   \n",
    "    print(\"The remaining element in this stack is:\", pop_remainders)\n",
    "else:\n",
    "    print(\"The stack is now empty\")"
   ]
  },
  {
   "cell_type": "markdown",
   "metadata": {},
   "source": [
    "(b) Implement a queue in Python. Add five names to the queue and then remove two names. Display the remaining names in the queue. "
   ]
  }
 ],
 "metadata": {
  "kernelspec": {
   "display_name": "Python 3",
   "language": "python",
   "name": "python3"
  },
  "language_info": {
   "codemirror_mode": {
    "name": "ipython",
    "version": 3
   },
   "file_extension": ".py",
   "mimetype": "text/x-python",
   "name": "python",
   "nbconvert_exporter": "python",
   "pygments_lexer": "ipython3",
   "version": "3.12.5"
  }
 },
 "nbformat": 4,
 "nbformat_minor": 2
}
