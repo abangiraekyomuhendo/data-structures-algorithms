{
 "cells": [
  {
   "cell_type": "markdown",
   "metadata": {},
   "source": [
    "Arrays"
   ]
  },
  {
   "cell_type": "code",
   "execution_count": null,
   "metadata": {},
   "outputs": [],
   "source": [
    "#arrays\n",
    "numbers = [10, 20, 30, 40]\n",
    "print(numbers[2])  # Output: 30\n",
    "numbers[2] = 35    # Update an element\n",
    "print(numbers)     # Output: [10, 20, 35, 40]\n"
   ]
  },
  {
   "cell_type": "markdown",
   "metadata": {},
   "source": [
    "traversal"
   ]
  },
  {
   "cell_type": "code",
   "execution_count": 3,
   "metadata": {},
   "outputs": [
    {
     "name": "stdout",
     "output_type": "stream",
     "text": [
      "10 -> 20 -> 30 -> "
     ]
    }
   ],
   "source": [
    "#Traversal\n",
    "class Node:\n",
    "    def __init__(self, data):\n",
    "        self.data = data\n",
    "        self.next = None\n",
    "\n",
    "class LinkedList:\n",
    "    def __init__(self):\n",
    "        self.head = None\n",
    "\n",
    "    def traverse(self):\n",
    "        current = self.head\n",
    "        while current:\n",
    "            print(current.data, end=\" -> \")\n",
    "            current = current.next\n",
    "\n",
    "# Example usage\n",
    "ll = LinkedList()\n",
    "ll.head = Node(10)\n",
    "second = Node(20)\n",
    "third = Node(30)\n",
    "\n",
    "ll.head.next = second\n",
    "second.next = third\n",
    "\n",
    "ll.traverse() # Expected Output: 10 -> 20 -> 30 ->\n"
   ]
  },
  {
   "cell_type": "markdown",
   "metadata": {},
   "source": [
    "stack"
   ]
  },
  {
   "cell_type": "code",
   "execution_count": 2,
   "metadata": {},
   "outputs": [
    {
     "name": "stdout",
     "output_type": "stream",
     "text": [
      "10\n"
     ]
    }
   ],
   "source": [
    "stack = []\n",
    "\n",
    "# Push operation\n",
    "stack.append(10)\n",
    "stack.append(20)\n",
    "\n",
    "# Peek the top\n",
    "print(stack[-2])  # Output: 20\n",
    "\n",
    "# Pop operation\n",
    "# stack.pop()\n",
    "# print(stack)  # Output: [10]\n"
   ]
  },
  {
   "cell_type": "markdown",
   "metadata": {},
   "source": [
    "queue"
   ]
  },
  {
   "cell_type": "code",
   "execution_count": null,
   "metadata": {},
   "outputs": [],
   "source": [
    "from collections import deque\n",
    "\n",
    "queue = deque()\n",
    "\n",
    "# Enqueue items\n",
    "queue.append(1)\n",
    "queue.append(2)\n",
    "queue.append(3)\n",
    "\n",
    "# Peek at the front\n",
    "print(queue[0])  # Output: 1\n",
    "\n",
    "# Dequeue an item\n",
    "queue.popleft()\n",
    "print(queue)  # Output: deque([2, 3])\n"
   ]
  }
 ],
 "metadata": {
  "kernelspec": {
   "display_name": "Python 3",
   "language": "python",
   "name": "python3"
  },
  "language_info": {
   "codemirror_mode": {
    "name": "ipython",
    "version": 3
   },
   "file_extension": ".py",
   "mimetype": "text/x-python",
   "name": "python",
   "nbconvert_exporter": "python",
   "pygments_lexer": "ipython3",
   "version": "3.12.5"
  }
 },
 "nbformat": 4,
 "nbformat_minor": 2
}
