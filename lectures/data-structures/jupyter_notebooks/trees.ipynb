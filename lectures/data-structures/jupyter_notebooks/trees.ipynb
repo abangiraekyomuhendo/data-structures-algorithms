{
 "cells": [
  {
   "cell_type": "markdown",
   "metadata": {},
   "source": [
    "- each entity in a tree is called a node. The top node is called a root node, next is nodes, and the last ones are called leaf nodes. But also, we have parent and children, and levels from top to bottom starting at level 0"
   ]
  },
  {
   "cell_type": "code",
   "execution_count": null,
   "metadata": {},
   "outputs": [],
   "source": [
    "class TreeNode:\n",
    "    #intializing the node with this given data\n",
    "    def __init__(self, data): #self is a reference to the current instance of a class. It is used to access variables that belong the instance.\n",
    "\n",
    "        #stores the data of the node (any value)\n",
    "        self.data = data\n",
    "\n",
    "        #initialize an empty list to store child nodes\n",
    "        self.children = [] # the node's children or other TreeNodes connected to this node.\n",
    "\n",
    "        #set the parent of the node to None as it doesn't have a parent yet.\n",
    "        self.parent = None #the parent of this Node is initially set to none. "
   ]
  },
  {
   "cell_type": "code",
   "execution_count": 2,
   "metadata": {},
   "outputs": [],
   "source": [
    "def add_child(self, child):\n",
    "    child.parent == self\n",
    "    self.children.append(child)"
   ]
  },
  {
   "cell_type": "code",
   "execution_count": null,
   "metadata": {},
   "outputs": [
    {
     "ename": "NameError",
     "evalue": "name 'build_product_tree' is not defined",
     "output_type": "error",
     "traceback": [
      "\u001b[0;31m---------------------------------------------------------------------------\u001b[0m",
      "\u001b[0;31mNameError\u001b[0m                                 Traceback (most recent call last)",
      "Cell \u001b[0;32mIn[3], line 2\u001b[0m\n\u001b[1;32m      1\u001b[0m \u001b[38;5;28;01mif\u001b[39;00m \u001b[38;5;18m__name__\u001b[39m \u001b[38;5;241m==\u001b[39m \u001b[38;5;124m'\u001b[39m\u001b[38;5;124m__main__\u001b[39m\u001b[38;5;124m'\u001b[39m:\n\u001b[0;32m----> 2\u001b[0m     \u001b[43mbuild_product_tree\u001b[49m()\n",
      "\u001b[0;31mNameError\u001b[0m: name 'build_product_tree' is not defined"
     ]
    }
   ],
   "source": [
    "if __name__ == '_main_':\n",
    "    build_product_tree()"
   ]
  }
 ],
 "metadata": {
  "kernelspec": {
   "display_name": "Python 3",
   "language": "python",
   "name": "python3"
  },
  "language_info": {
   "codemirror_mode": {
    "name": "ipython",
    "version": 3
   },
   "file_extension": ".py",
   "mimetype": "text/x-python",
   "name": "python",
   "nbconvert_exporter": "python",
   "pygments_lexer": "ipython3",
   "version": "3.12.5"
  }
 },
 "nbformat": 4,
 "nbformat_minor": 2
}
