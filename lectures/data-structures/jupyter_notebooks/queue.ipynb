{
 "cells": [
  {
   "cell_type": "markdown",
   "metadata": {},
   "source": [
    "Queues add in at the back and delete at the front. They follow the FIFO structure. "
   ]
  },
  {
   "cell_type": "code",
   "execution_count": 6,
   "metadata": {},
   "outputs": [
    {
     "data": {
      "text/plain": [
       "3232"
      ]
     },
     "execution_count": 6,
     "metadata": {},
     "output_type": "execute_result"
    }
   ],
   "source": [
    "#using lists\n",
    "#structure: insert(index, element)\n",
    "queue_structure = []\n",
    "queue_structure.insert(0,3232)\n",
    "queue_structure.insert(0,4646)\n",
    "queue_structure.insert(0,5356)\n",
    "queue_structure.insert(0,3242)\n",
    "\n",
    "first_pop = queue_structure.pop()\n",
    "\n",
    "first_pop\n"
   ]
  }
 ],
 "metadata": {
  "kernelspec": {
   "display_name": "Python 3",
   "language": "python",
   "name": "python3"
  },
  "language_info": {
   "codemirror_mode": {
    "name": "ipython",
    "version": 3
   },
   "file_extension": ".py",
   "mimetype": "text/x-python",
   "name": "python",
   "nbconvert_exporter": "python",
   "pygments_lexer": "ipython3",
   "version": "3.12.5"
  }
 },
 "nbformat": 4,
 "nbformat_minor": 2
}
