{
 "cells": [
  {
   "cell_type": "markdown",
   "metadata": {},
   "source": []
  },
  {
   "cell_type": "markdown",
   "metadata": {},
   "source": [
    "#538672\n",
    "so here we take the first two, compare. if the first value is greater than the second value, we swap to have the small value first. Next iterate...move forward. So in this case it would 5 and 8. If the first is smaller, skip and move to 8 and 6, etc..to the end."
   ]
  },
  {
   "cell_type": "code",
   "execution_count": null,
   "metadata": {},
   "outputs": [
    {
     "name": "stdout",
     "output_type": "stream",
     "text": [
      "[2, 3, 5, 6, 7, 8]\n"
     ]
    }
   ],
   "source": [
    "# Define a function named 'sort' that takes a list of numbers as input\n",
    "def sort(nums):\n",
    "    # Outer loop: Starts from the last index (len(nums)-1) and decreases to 1\n",
    "    for i in range(len(nums)-1, 0, -1):  #start, stop, step\n",
    "        # Inner loop: Iterates through the current unsorted portion of the list\n",
    "        for j in range(i):  \n",
    "            # Compare adjacent elements in the list\n",
    "            if nums[j] > nums[j+1]:  #j+1 is the element immediately following nums[j]\n",
    "                # Swap elements if the left one is greater than the right one\n",
    "                temp = nums[j]  \n",
    "                nums[j] = nums[j+1]  \n",
    "                nums[j+1] = temp  \n",
    "\n",
    "# Create a list of numbers to be sorted\n",
    "nums = [5, 3, 8, 6, 7, 2]\n",
    "\n",
    "# Call the 'sort' function to sort the 'nums' list in ascending order\n",
    "sort(nums)\n",
    "\n",
    "# Print the sorted list\n",
    "print(nums)\n"
   ]
  },
  {
   "cell_type": "code",
   "execution_count": 7,
   "metadata": {},
   "outputs": [
    {
     "name": "stdout",
     "output_type": "stream",
     "text": [
      "The order is:  [300, 400, 900, 1000]\n"
     ]
    }
   ],
   "source": [
    "def bubble_sort(bubs):\n",
    "    for i in range(len(bubs)-1,0,-1):\n",
    "        for j in range(i):\n",
    "            if bubs[j] > bubs[j+1]:\n",
    "                temp = bubs[j]\n",
    "                bubs[j] = bubs[j+1]\n",
    "                bubs[j+1] = temp\n",
    "\n",
    "bubs = [400, 300, 900, 1000]\n",
    "\n",
    "bubble_sort(bubs)\n",
    "\n",
    "print(f\"The order is: \", bubs)\n"
   ]
  }
 ],
 "metadata": {
  "kernelspec": {
   "display_name": "Python 3",
   "language": "python",
   "name": "python3"
  },
  "language_info": {
   "codemirror_mode": {
    "name": "ipython",
    "version": 3
   },
   "file_extension": ".py",
   "mimetype": "text/x-python",
   "name": "python",
   "nbconvert_exporter": "python",
   "pygments_lexer": "ipython3",
   "version": "3.12.5"
  }
 },
 "nbformat": 4,
 "nbformat_minor": 2
}
